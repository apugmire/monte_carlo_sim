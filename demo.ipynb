{
 "cells": [
  {
   "cell_type": "code",
   "execution_count": 36,
   "id": "545e49dc-7c1b-407d-974e-ea325a93efc2",
   "metadata": {
    "tags": []
   },
   "outputs": [],
   "source": [
    "import pandas as pd\n",
    "import numpy as np\n",
    "import itertools\n",
    "\n",
    "class Die():\n",
    "    '''\n",
    "    This class provides methods for creating a rolling a dice. For this class, a die is any discrete random variable \n",
    "    associated with a stochastic process.\n",
    "    \n",
    "    Attributes:\n",
    "    \n",
    "    faces: the sides the die has. Each side must contain a unique string or number (type: numpy array).\n",
    "    weights: the probability each side will land \"up\" when rolled (type: list of int or float).\n",
    "    '''\n",
    "    \n",
    "    def __init__(self, faces):\n",
    "        '''initialize the die instance. Weight defaults to 1 for each face but can be changed after the object is created'''\n",
    "        self.faces = faces\n",
    "        \n",
    "        #check that faces is an np array\n",
    "        if type(self.faces) != np.ndarray:\n",
    "            raise TypeError(\"Faces must be NumPy array\")\n",
    "        \n",
    "        #check if faces are all unique\"\n",
    "        if len(self.faces) != len(np.unique(self.faces)):\n",
    "            raise ValueError(\"All faces must be unique\")\n",
    "        self.weights = [1.0 for i in self.faces]\n",
    "        self._die = pd.DataFrame({'weights' : self.weights}, index = self.faces)\n",
    "        self._die.index.name = \"Faces\"\n",
    "        \n",
    "    def change_weight(self,face,weight):\n",
    "        '''changes the weight of one face if that face is on the die and the weight is a valid value (must be an integer\n",
    "        or float).\n",
    "        '''\n",
    "        \n",
    "        #check if provided value is a face\n",
    "        if face not in list(self._die.index):\n",
    "            raise IndexError(face, \"is not a face on this die.\")\n",
    "        \n",
    "        #check is weight is int, float, or can be casted to int\n",
    "        if type(weight) != int | float:\n",
    "            try:\n",
    "                weight = float(weight)\n",
    "            except TypeError as e:\n",
    "                print(e)\n",
    "        \n",
    "        #change weight\n",
    "        self._die.loc[(face,'weights')] = weight\n",
    "    \n",
    "    def roll_die(self, rolls=1):\n",
    "        '''takes an integer parameter to specify how many times the dice should be rolled. Default is 1 roll'''\n",
    "        \n",
    "        #calculate probablity of rolling each face\n",
    "        prob = [i/sum(self._die.weights) for i in self._die.weights]\n",
    "        \n",
    "        # get random sample of faces based on probability associated with rolling each then return the list\n",
    "        return [np.random.choice(self._die.index, replace = True, p=prob) for i in range(rolls)]\n",
    "            \n",
    "    def current_state(self):\n",
    "        '''Takes no arguments and returns a copy of the private die data frame at this point in time'''\n",
    "        \n",
    "        copy = self._die.copy()\n",
    "        \n",
    "        return copy\n",
    "\n",
    "class Game():\n",
    "    \n",
    "    '''\n",
    "    This class provides methods for playing a game with a die or dice and viewing the results. These methods require a die\n",
    "    or dice from the Die class. The die must also be similar, i.e. they must have the same number of sides and associated\n",
    "    faces, but each die object may have its own weights.\n",
    "\n",
    "    Game objects only keep the results of their most recent play.\n",
    "\n",
    "    Attributes:\n",
    "    \n",
    "    pieces: a list of already instantiated similar dice to be used in the game (type: list)\n",
    "    '''\n",
    "    \n",
    "    def __init__(self,pieces):\n",
    "        '''initialize the list of die/dice to be used in the game'''\n",
    "        \n",
    "        self.pieces = pieces\n",
    "        \n",
    "    def play_game(self, rolls):\n",
    "        '''takes an integer parameter to specify how many times the dice should be rolled and saves the result of the\n",
    "        roll(s) in a wide format data frame.'''\n",
    "        \n",
    "        # roll each dice in the list and store the results in a dictionary \n",
    "        # where the key is the position in the list and the value is the list of results\n",
    "        outcome = {i: self.pieces[i].roll_die(rolls) for i in range(len(self.pieces))}\n",
    "        \n",
    "        # convert dictionary into a dataframe where the column names are the list index \n",
    "        # and the row names are the roll number\n",
    "        self._play_results  = pd.DataFrame(outcome, index=[i for i in range(0,rolls)])\n",
    "        self._play_results.index.name = \"roll_num\"\n",
    "        self._play_results.columns.name = \"dice_num\"\n",
    "        \n",
    "    def show_outcome(self, form=\"wide\"):\n",
    "        '''\n",
    "        takes a string parameter (either \"wide\" or \"narrow\") and returns a copy of the private play data frame to the user \n",
    "        in either wide or narrow form.\n",
    "        \n",
    "        The narrow form will have a MultiIndex, comprising the roll number and the die number and a single column with the \n",
    "        outcomes\n",
    "        '''\n",
    "        \n",
    "        # convert parameter entry to all lowercase\n",
    "        self.form = form.lower()\n",
    "        \n",
    "        # if user indicates wide form, return a copy of the data frame as is\n",
    "        if self.form == \"wide\":\n",
    "            return self._play_results\n",
    "        \n",
    "        # if user indicates wide form, format data frame and return a copy\n",
    "        elif self.form == \"narrow\":\n",
    "            \n",
    "            # convert copy of wide data frame into narrow version\n",
    "            narrow = self._play_results.copy().stack()\n",
    "        \n",
    "            #set multiindex names\n",
    "            narrow.index.set_names([\"roll_num\",\"die_num\"], inplace=True)\n",
    "            \n",
    "            # turn into a dataframe\n",
    "            narrow = narrow.to_frame(name=\"outcome\")\n",
    "            \n",
    "            # return narrow format data frame\n",
    "            return narrow\n",
    "        \n",
    "        # if the uswer enters anything else, raise a error\n",
    "        else:\n",
    "            raise ValueError(\"Please specify either narrow or wide.\")\n",
    "\n",
    "class Analyzer():\n",
    "    '''\n",
    "    This class provides methods for analyzing the results of a single game. These methods require a game from the Game \n",
    "    class. This class takes the results of a single game and computes various descriptive statistical properties about it.\n",
    "\n",
    "    Attributes:\n",
    "    \n",
    "    game: an instantiated game object (type: Game)\n",
    "    '''\n",
    "    \n",
    "    def __init__(self,game):\n",
    "        '''\n",
    "        Takes a game object as its input parameter. Throws a ValueError if the passed value is not a Game object.\n",
    "        '''\n",
    "        if type(game) != Game:\n",
    "            raise ValueError(\"This method only accepts Game objects\")\n",
    "        else:\n",
    "            self.game = game\n",
    "    \n",
    "    def jackpot(self):\n",
    "        '''\n",
    "        Takes no parameters. Computes how many times the game resulted in a jackpot. A jackpot is a result in which all\n",
    "        faces are the same. Returns an integer for the number of jackpots.\n",
    "        '''\n",
    "        # get a series which shows the number of unique values in each row\n",
    "        uniques = self.game._play_results.nunique(axis=1)\n",
    "        \n",
    "        # find home many rows in this series have only 1 unique value\n",
    "        jackpot = sum(uniques== 1)\n",
    "        \n",
    "        # return number of jackpots\n",
    "        return jackpot\n",
    "             \n",
    "    def face_count(self):\n",
    "        '''\n",
    "        Takes no parameters. Computes how many times each face is rolled in each event. Returns a dataframe where the \n",
    "        index is the roll number, the columns are the face values, and cells are the count values.\n",
    "        '''\n",
    "        # get list of all possible faces to use as columns\n",
    "        all_faces = np.unique(np.concatenate([piece.faces for piece in self.game.pieces]))\n",
    "        \n",
    "        #create base dataframe with roll number as index and possible faces as columns\n",
    "        face_counts = pd.DataFrame(index=self.game._play_results.index, columns = all_faces).fillna(0)\n",
    "        \n",
    "        #iterate over rolls and get counts of each face\n",
    "        for roll in self.game._play_results.index:\n",
    "        \n",
    "            # isolate each row\n",
    "            outcomes = self.game._play_results.loc[roll].values\n",
    "            \n",
    "            # count occurance of each face and store in a dictionary where the face is the key and the count is the value\n",
    "            counts = {face:(outcomes==face).sum() for face in all_faces}\n",
    "            \n",
    "            #add counts to data frame\n",
    "            for face, count in counts.items():\n",
    "                face_counts.loc[roll,face] = count\n",
    "                \n",
    "        return face_counts\n",
    "    \n",
    "    def combo_count(self):\n",
    "        '''\n",
    "        Takes no parameters. Computes the distinct combinations of faces rolled, along with their counts. The combinations\n",
    "        are order-independent and repetition is allowed. Returns a data frame with a MultiIndex of distinct combinations and\n",
    "        a column for the associated counts\n",
    "        '''\n",
    "        \n",
    "        #get the faces from each roll and sort since order does not matter (ex. AAB and ABA are the same)\n",
    "        faces_rolled = [np.sort(self.game._play_results.loc[roll].values) for roll in self.game._play_results.index]\n",
    "        \n",
    "        #convert each face outcome to a tuple for easier counting\n",
    "        tupes = [tuple(faces) for faces in faces_rolled]\n",
    "        \n",
    "        #count how many times each face combo appears and store that in a dictionary \n",
    "        count = {tupe:tupes.count(tupe) for tupe in tupes}\n",
    "        \n",
    "        #create multiindex\n",
    "        index = pd.MultiIndex.from_tuples(count.keys(), names = [i for i in range(len(next(iter(count))))])\n",
    "        \n",
    "        #create datafram with multiindex and column with counts\n",
    "        combo_counts = pd.DataFrame({'Count': list(count.values())}, index=index)\n",
    "        combo_counts = combo_counts.sort_index()\n",
    "        \n",
    "        return combo_counts\n",
    "    \n",
    "    def perm_count(self):\n",
    "        '''\n",
    "        Takes no parameters. Computes the distinct permutations of faces rolled, along with their counts. The permutations\n",
    "        are order-dependent and repetition is allowed. Returns a data frame with a MultiIndex of distinct permutations and a\n",
    "        column for the associated counts\n",
    "        '''\n",
    "        #get the faces from each roll, no sorting since order matters\n",
    "        faces_rolled = [self.game._play_results.loc[roll].values for roll in self.game._play_results.index]\n",
    "        \n",
    "        #convert each face outcome to a tuple for easier counting\n",
    "        tupes = [tuple(faces) for faces in faces_rolled]\n",
    "        \n",
    "        #count how many times each face combo appears and store that in a dictionary \n",
    "        count = {tupe:tupes.count(tupe) for tupe in tupes}\n",
    "        \n",
    "        #create multiindex\n",
    "        index = pd.MultiIndex.from_tuples(count.keys(), names = [i for i in range(len(next(iter(count))))])\n",
    "        \n",
    "        #create datafram with multiindex and column with counts\n",
    "        perm_counts = pd.DataFrame({'Count': list(count.values())}, index=index)\n",
    "        perm_counts = perm_counts.sort_index()\n",
    "        \n",
    "        return perm_counts"
   ]
  },
  {
   "cell_type": "code",
   "execution_count": 37,
   "id": "d2196811-1fdd-4766-9600-0c8a14bae313",
   "metadata": {
    "tags": []
   },
   "outputs": [],
   "source": [
    "f1 = Die(np.array([\"A\",\"B\",\"C\",\"D\",\"E\",\"F\",\"G\",\"H\",\"I\"]))\n",
    "unfair = Die(np.array([\"A\",\"B\",\"C\",\"D\",\"E\",\"F\",\"G\",\"H\",\"I\"]))\n",
    "f2 = Die(np.array([\"A\",\"B\",\"C\",\"D\",\"E\",\"F\",\"G\",\"H\",\"I\"]))\n",
    "f3 = Die(np.array([\"A\",\"B\",\"C\",\"D\",\"E\",\"F\",\"G\",\"H\",\"I\"]))\n",
    "f4 = Die(np.array([\"A\",\"B\",\"C\",\"D\",\"E\",\"F\",\"G\",\"H\",\"I\"]))\n",
    "f5 = Die(np.array([\"A\",\"B\",\"C\",\"D\",\"E\",\"F\",\"G\",\"H\",\"I\"]))\n",
    "f6 = Die(np.array([\"A\",\"B\",\"C\",\"D\",\"E\",\"F\",\"G\",\"H\",\"I\"]))"
   ]
  },
  {
   "cell_type": "code",
   "execution_count": 50,
   "id": "5b74e7a0-4402-4437-abdf-47262702062e",
   "metadata": {
    "tags": []
   },
   "outputs": [],
   "source": [
    "unfair.change_weight(\"C\",10)\n",
    "unfair.change_weight(\"B\",10)\n",
    "f1.change_weight(\"A\",5)"
   ]
  },
  {
   "cell_type": "code",
   "execution_count": 39,
   "id": "70dee599-180c-44f7-9cc3-b2013c70d537",
   "metadata": {
    "tags": []
   },
   "outputs": [],
   "source": [
    "game1 = Game([f1,f1,f1])"
   ]
  },
  {
   "cell_type": "code",
   "execution_count": 40,
   "id": "13ceb9b5-c227-4dc0-bc5a-5d728ef3fad9",
   "metadata": {
    "tags": []
   },
   "outputs": [],
   "source": [
    "game1.play_game(10)"
   ]
  },
  {
   "cell_type": "code",
   "execution_count": 74,
   "id": "2d990037-12fa-48e9-82f5-0f601a6a4131",
   "metadata": {
    "tags": []
   },
   "outputs": [
    {
     "data": {
      "text/html": [
       "<div>\n",
       "<style scoped>\n",
       "    .dataframe tbody tr th:only-of-type {\n",
       "        vertical-align: middle;\n",
       "    }\n",
       "\n",
       "    .dataframe tbody tr th {\n",
       "        vertical-align: top;\n",
       "    }\n",
       "\n",
       "    .dataframe thead th {\n",
       "        text-align: right;\n",
       "    }\n",
       "</style>\n",
       "<table border=\"1\" class=\"dataframe\">\n",
       "  <thead>\n",
       "    <tr style=\"text-align: right;\">\n",
       "      <th></th>\n",
       "      <th></th>\n",
       "      <th>outcome</th>\n",
       "    </tr>\n",
       "    <tr>\n",
       "      <th>roll_num</th>\n",
       "      <th>die_num</th>\n",
       "      <th></th>\n",
       "    </tr>\n",
       "  </thead>\n",
       "  <tbody>\n",
       "    <tr>\n",
       "      <th rowspan=\"3\" valign=\"top\">0</th>\n",
       "      <th>0</th>\n",
       "      <td>F</td>\n",
       "    </tr>\n",
       "    <tr>\n",
       "      <th>1</th>\n",
       "      <td>C</td>\n",
       "    </tr>\n",
       "    <tr>\n",
       "      <th>2</th>\n",
       "      <td>A</td>\n",
       "    </tr>\n",
       "    <tr>\n",
       "      <th rowspan=\"3\" valign=\"top\">1</th>\n",
       "      <th>0</th>\n",
       "      <td>C</td>\n",
       "    </tr>\n",
       "    <tr>\n",
       "      <th>1</th>\n",
       "      <td>I</td>\n",
       "    </tr>\n",
       "    <tr>\n",
       "      <th>2</th>\n",
       "      <td>C</td>\n",
       "    </tr>\n",
       "    <tr>\n",
       "      <th rowspan=\"3\" valign=\"top\">2</th>\n",
       "      <th>0</th>\n",
       "      <td>G</td>\n",
       "    </tr>\n",
       "    <tr>\n",
       "      <th>1</th>\n",
       "      <td>B</td>\n",
       "    </tr>\n",
       "    <tr>\n",
       "      <th>2</th>\n",
       "      <td>I</td>\n",
       "    </tr>\n",
       "    <tr>\n",
       "      <th rowspan=\"3\" valign=\"top\">3</th>\n",
       "      <th>0</th>\n",
       "      <td>G</td>\n",
       "    </tr>\n",
       "    <tr>\n",
       "      <th>1</th>\n",
       "      <td>I</td>\n",
       "    </tr>\n",
       "    <tr>\n",
       "      <th>2</th>\n",
       "      <td>D</td>\n",
       "    </tr>\n",
       "    <tr>\n",
       "      <th rowspan=\"3\" valign=\"top\">4</th>\n",
       "      <th>0</th>\n",
       "      <td>D</td>\n",
       "    </tr>\n",
       "    <tr>\n",
       "      <th>1</th>\n",
       "      <td>H</td>\n",
       "    </tr>\n",
       "    <tr>\n",
       "      <th>2</th>\n",
       "      <td>C</td>\n",
       "    </tr>\n",
       "    <tr>\n",
       "      <th rowspan=\"3\" valign=\"top\">5</th>\n",
       "      <th>0</th>\n",
       "      <td>H</td>\n",
       "    </tr>\n",
       "    <tr>\n",
       "      <th>1</th>\n",
       "      <td>G</td>\n",
       "    </tr>\n",
       "    <tr>\n",
       "      <th>2</th>\n",
       "      <td>E</td>\n",
       "    </tr>\n",
       "    <tr>\n",
       "      <th rowspan=\"3\" valign=\"top\">6</th>\n",
       "      <th>0</th>\n",
       "      <td>C</td>\n",
       "    </tr>\n",
       "    <tr>\n",
       "      <th>1</th>\n",
       "      <td>G</td>\n",
       "    </tr>\n",
       "    <tr>\n",
       "      <th>2</th>\n",
       "      <td>A</td>\n",
       "    </tr>\n",
       "    <tr>\n",
       "      <th rowspan=\"3\" valign=\"top\">7</th>\n",
       "      <th>0</th>\n",
       "      <td>F</td>\n",
       "    </tr>\n",
       "    <tr>\n",
       "      <th>1</th>\n",
       "      <td>A</td>\n",
       "    </tr>\n",
       "    <tr>\n",
       "      <th>2</th>\n",
       "      <td>C</td>\n",
       "    </tr>\n",
       "    <tr>\n",
       "      <th rowspan=\"3\" valign=\"top\">8</th>\n",
       "      <th>0</th>\n",
       "      <td>F</td>\n",
       "    </tr>\n",
       "    <tr>\n",
       "      <th>1</th>\n",
       "      <td>H</td>\n",
       "    </tr>\n",
       "    <tr>\n",
       "      <th>2</th>\n",
       "      <td>H</td>\n",
       "    </tr>\n",
       "    <tr>\n",
       "      <th rowspan=\"3\" valign=\"top\">9</th>\n",
       "      <th>0</th>\n",
       "      <td>A</td>\n",
       "    </tr>\n",
       "    <tr>\n",
       "      <th>1</th>\n",
       "      <td>H</td>\n",
       "    </tr>\n",
       "    <tr>\n",
       "      <th>2</th>\n",
       "      <td>E</td>\n",
       "    </tr>\n",
       "  </tbody>\n",
       "</table>\n",
       "</div>"
      ],
      "text/plain": [
       "                 outcome\n",
       "roll_num die_num        \n",
       "0        0             F\n",
       "         1             C\n",
       "         2             A\n",
       "1        0             C\n",
       "         1             I\n",
       "         2             C\n",
       "2        0             G\n",
       "         1             B\n",
       "         2             I\n",
       "3        0             G\n",
       "         1             I\n",
       "         2             D\n",
       "4        0             D\n",
       "         1             H\n",
       "         2             C\n",
       "5        0             H\n",
       "         1             G\n",
       "         2             E\n",
       "6        0             C\n",
       "         1             G\n",
       "         2             A\n",
       "7        0             F\n",
       "         1             A\n",
       "         2             C\n",
       "8        0             F\n",
       "         1             H\n",
       "         2             H\n",
       "9        0             A\n",
       "         1             H\n",
       "         2             E"
      ]
     },
     "execution_count": 74,
     "metadata": {},
     "output_type": "execute_result"
    }
   ],
   "source": [
    "game1.show_outcome('narrow')"
   ]
  },
  {
   "cell_type": "code",
   "execution_count": null,
   "id": "879c4c44-096d-4774-833f-069037f2dbb0",
   "metadata": {},
   "outputs": [],
   "source": []
  },
  {
   "cell_type": "code",
   "execution_count": 43,
   "id": "acf33129-f422-4f5d-a6ca-ccde12992413",
   "metadata": {
    "tags": []
   },
   "outputs": [],
   "source": [
    "analysis1 = Analyzer(game1)"
   ]
  },
  {
   "cell_type": "code",
   "execution_count": 44,
   "id": "9cb0f776-f62e-4f60-bf20-0dcd1a7f21e4",
   "metadata": {
    "tags": []
   },
   "outputs": [
    {
     "data": {
      "text/plain": [
       "3"
      ]
     },
     "execution_count": 44,
     "metadata": {},
     "output_type": "execute_result"
    }
   ],
   "source": [
    "len(analysis1.game.pieces)"
   ]
  },
  {
   "cell_type": "code",
   "execution_count": 45,
   "id": "8747c868-34c9-4f84-bb0f-7f96003bf9f9",
   "metadata": {
    "tags": []
   },
   "outputs": [
    {
     "data": {
      "text/plain": [
       "0"
      ]
     },
     "execution_count": 45,
     "metadata": {},
     "output_type": "execute_result"
    }
   ],
   "source": [
    "analysis1.jackpot()"
   ]
  },
  {
   "cell_type": "code",
   "execution_count": 46,
   "id": "da4edf9e-bf16-4b31-8827-27f9855834da",
   "metadata": {
    "tags": []
   },
   "outputs": [
    {
     "data": {
      "text/html": [
       "<div>\n",
       "<style scoped>\n",
       "    .dataframe tbody tr th:only-of-type {\n",
       "        vertical-align: middle;\n",
       "    }\n",
       "\n",
       "    .dataframe tbody tr th {\n",
       "        vertical-align: top;\n",
       "    }\n",
       "\n",
       "    .dataframe thead th {\n",
       "        text-align: right;\n",
       "    }\n",
       "</style>\n",
       "<table border=\"1\" class=\"dataframe\">\n",
       "  <thead>\n",
       "    <tr style=\"text-align: right;\">\n",
       "      <th></th>\n",
       "      <th></th>\n",
       "      <th></th>\n",
       "      <th>Count</th>\n",
       "    </tr>\n",
       "    <tr>\n",
       "      <th>0</th>\n",
       "      <th>1</th>\n",
       "      <th>2</th>\n",
       "      <th></th>\n",
       "    </tr>\n",
       "  </thead>\n",
       "  <tbody>\n",
       "    <tr>\n",
       "      <th rowspan=\"3\" valign=\"top\">A</th>\n",
       "      <th rowspan=\"2\" valign=\"top\">C</th>\n",
       "      <th>F</th>\n",
       "      <td>2</td>\n",
       "    </tr>\n",
       "    <tr>\n",
       "      <th>G</th>\n",
       "      <td>1</td>\n",
       "    </tr>\n",
       "    <tr>\n",
       "      <th>E</th>\n",
       "      <th>H</th>\n",
       "      <td>1</td>\n",
       "    </tr>\n",
       "    <tr>\n",
       "      <th>B</th>\n",
       "      <th>G</th>\n",
       "      <th>I</th>\n",
       "      <td>1</td>\n",
       "    </tr>\n",
       "    <tr>\n",
       "      <th rowspan=\"2\" valign=\"top\">C</th>\n",
       "      <th>C</th>\n",
       "      <th>I</th>\n",
       "      <td>1</td>\n",
       "    </tr>\n",
       "    <tr>\n",
       "      <th>D</th>\n",
       "      <th>H</th>\n",
       "      <td>1</td>\n",
       "    </tr>\n",
       "    <tr>\n",
       "      <th>D</th>\n",
       "      <th>G</th>\n",
       "      <th>I</th>\n",
       "      <td>1</td>\n",
       "    </tr>\n",
       "    <tr>\n",
       "      <th>E</th>\n",
       "      <th>G</th>\n",
       "      <th>H</th>\n",
       "      <td>1</td>\n",
       "    </tr>\n",
       "    <tr>\n",
       "      <th>F</th>\n",
       "      <th>H</th>\n",
       "      <th>H</th>\n",
       "      <td>1</td>\n",
       "    </tr>\n",
       "  </tbody>\n",
       "</table>\n",
       "</div>"
      ],
      "text/plain": [
       "       Count\n",
       "0 1 2       \n",
       "A C F      2\n",
       "    G      1\n",
       "  E H      1\n",
       "B G I      1\n",
       "C C I      1\n",
       "  D H      1\n",
       "D G I      1\n",
       "E G H      1\n",
       "F H H      1"
      ]
     },
     "execution_count": 46,
     "metadata": {},
     "output_type": "execute_result"
    }
   ],
   "source": [
    "analysis1.combo_count()"
   ]
  },
  {
   "cell_type": "code",
   "execution_count": 71,
   "id": "0e337fa5-8771-4026-8f1e-5d6769e1d347",
   "metadata": {
    "tags": []
   },
   "outputs": [
    {
     "data": {
      "text/plain": [
       "True"
      ]
     },
     "execution_count": 71,
     "metadata": {},
     "output_type": "execute_result"
    }
   ],
   "source": [
    "type(analysis1.perm_count().index) ==pd.MultiIndex"
   ]
  },
  {
   "cell_type": "code",
   "execution_count": 38,
   "id": "638e79ef-4caa-4af4-9c9c-5f668fe280a9",
   "metadata": {
    "tags": []
   },
   "outputs": [
    {
     "data": {
      "text/plain": [
       "[10]"
      ]
     },
     "execution_count": 38,
     "metadata": {},
     "output_type": "execute_result"
    }
   ],
   "source": [
    "even = np.array([2,4,6,8,10,12,14,16,18,20])      \n",
    "die3 = Die(even)\n",
    "\n",
    "np.random.seed(1)\n",
    "\n",
    "die3.roll_die(1)"
   ]
  },
  {
   "cell_type": "code",
   "execution_count": 51,
   "id": "6142fefe-1b17-4224-9e3f-7246d1c98314",
   "metadata": {
    "tags": []
   },
   "outputs": [],
   "source": [
    "state = f1.current_state()"
   ]
  },
  {
   "cell_type": "code",
   "execution_count": 53,
   "id": "49a4dfdb-c04d-44ab-8190-c67ff4d3b639",
   "metadata": {
    "tags": []
   },
   "outputs": [],
   "source": [
    "odd = np.array([1,3,5])\n",
    "        \n",
    "die5 = Die(odd)\n",
    "\n",
    "die5.change_weight(1,5)"
   ]
  },
  {
   "cell_type": "code",
   "execution_count": 54,
   "id": "0fcdd896-8188-4aed-8a4a-fe1bea871682",
   "metadata": {
    "tags": []
   },
   "outputs": [],
   "source": [
    "state = die5.current_state()"
   ]
  },
  {
   "cell_type": "code",
   "execution_count": 55,
   "id": "77db6624-14e0-41f8-8d8c-c8974ecfc65d",
   "metadata": {
    "tags": []
   },
   "outputs": [
    {
     "data": {
      "text/plain": [
       "[5.0, 1.0, 1.0]"
      ]
     },
     "execution_count": 55,
     "metadata": {},
     "output_type": "execute_result"
    }
   ],
   "source": [
    "expectedwt = [5.0,1.0,1.0]\n",
    "actualwt = state['weights'].tolist()\n",
    "actualwt"
   ]
  },
  {
   "cell_type": "code",
   "execution_count": 56,
   "id": "bba78061-8ea3-4e62-8239-9ca54775c1cd",
   "metadata": {
    "tags": []
   },
   "outputs": [
    {
     "data": {
      "text/plain": [
       "True"
      ]
     },
     "execution_count": 56,
     "metadata": {},
     "output_type": "execute_result"
    }
   ],
   "source": [
    "expectedwt == actualwt"
   ]
  },
  {
   "cell_type": "code",
   "execution_count": 58,
   "id": "462f4cc9-0a9f-4624-a0fc-52b5f4fb9d7f",
   "metadata": {
    "tags": []
   },
   "outputs": [],
   "source": [
    "supp = list(state.index)"
   ]
  },
  {
   "cell_type": "code",
   "execution_count": 62,
   "id": "3faf0238-1cb2-494a-a30d-3a3f82c9c204",
   "metadata": {
    "tags": []
   },
   "outputs": [
    {
     "data": {
      "text/plain": [
       "True"
      ]
     },
     "execution_count": 62,
     "metadata": {},
     "output_type": "execute_result"
    }
   ],
   "source": [
    "alph = np.array([\"A\",\"B\",\"C\",\"D\"]) \n",
    "        \n",
    "d3 = Die(alph) #create die with 4 faces\n",
    "        \n",
    "d3.change_weight(\"B\",6) #change weight of B to 6\n",
    "        \n",
    "actual = d3._die.loc[(\"B\", \"weights\")]\n",
    "        \n",
    "expected = 6\n",
    "\n",
    "actual == expected"
   ]
  }
 ],
 "metadata": {
  "kernelspec": {
   "display_name": "Python 3 (ipykernel)",
   "language": "python",
   "name": "python3"
  },
  "language_info": {
   "codemirror_mode": {
    "name": "ipython",
    "version": 3
   },
   "file_extension": ".py",
   "mimetype": "text/x-python",
   "name": "python",
   "nbconvert_exporter": "python",
   "pygments_lexer": "ipython3",
   "version": "3.11.4"
  }
 },
 "nbformat": 4,
 "nbformat_minor": 5
}
