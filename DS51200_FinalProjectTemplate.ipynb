{
 "cells": [
  {
   "cell_type": "markdown",
   "id": "45762487-d33f-486d-8e38-2cdea04e3528",
   "metadata": {},
   "source": [
    "# Final Project Report\n",
    "\n",
    "* Class: DS 5100\n",
    "* Student Name: Alysa Pugmire\n",
    "* Student Net ID: amp3xs\n",
    "* This URL: https://github.com/apugmire/monte_carlo_sim/blob/main/DS51200_FinalProjectTemplate.ipynb"
   ]
  },
  {
   "cell_type": "markdown",
   "id": "acf756c1-ecaa-41dc-b6ca-d566eb94560b",
   "metadata": {},
   "source": [
    "# Instructions\n",
    "\n",
    "Follow the instructions in the Final Project isntructions notebook and put evidence of your work in this notebook.\n",
    "\n",
    "Total points for each subsection under **Deliverables** and **Scenarios** are given in parentheses.\n",
    "\n",
    "Breakdowns of points within subsections are specified within subsection instructions as bulleted lists.\n",
    "\n",
    "This project is worth **50 points**."
   ]
  },
  {
   "cell_type": "markdown",
   "id": "89dc7a32-f682-4402-8c1e-b6ccdb3e0e39",
   "metadata": {},
   "source": [
    "# Deliverables"
   ]
  },
  {
   "cell_type": "markdown",
   "id": "d32cb273-9a40-4909-a7ce-51f6e4958d3c",
   "metadata": {},
   "source": [
    "## The Monte Carlo Module (10)\n",
    "\n",
    "- URL included, appropriately named (1).\n",
    "- Includes all three specified classes (3).\n",
    "- Includes at least all 12 specified methods (6; .5 each)."
   ]
  },
  {
   "cell_type": "markdown",
   "id": "f5f3b070-de9e-4de9-bfae-8974d184aa28",
   "metadata": {},
   "source": [
    "Put the URL to your GitHub repo here.\n",
    "\n",
    "Repo URL: https://github.com/apugmire/monte_carlo_sim"
   ]
  },
  {
   "cell_type": "markdown",
   "id": "162370fb-3729-4c85-b040-8c25b2c966d2",
   "metadata": {},
   "source": [
    "Paste a copyy of your module here.\n",
    "\n",
    "NOTE: Paste as text, not as code. Use triple backticks to wrap your code blocks."
   ]
  },
  {
   "cell_type": "markdown",
   "id": "69edaf33-6236-48c1-851a-11325fb77a12",
   "metadata": {},
   "source": [
    "```python\n",
    "import pandas as pd\n",
    "import numpy as np\n",
    "import itertools\n",
    "\n",
    "class Die():\n",
    "    '''\n",
    "    This class provides methods for creating a rolling a dice. For this class, a die is any discrete random variable \n",
    "    associated with a stochastic process. \n",
    "    \n",
    "    Attributes:\n",
    "    \n",
    "    faces: the sides the die has. Each side must contain a unique string or number (type: numpy array).\n",
    "    weights: the probability each side will land \"up\" when rolled (type: list of int or float).\n",
    "    '''\n",
    "    \n",
    "    def __init__(self, faces):\n",
    "        '''initialize the die instance. Weight defaults to 1 for each face but can be changed after the object is created'''\n",
    "        self.faces = faces\n",
    "        \n",
    "        #check that faces is an np array\n",
    "        if type(self.faces) != np.ndarray:\n",
    "            raise TypeError(\"Faces must be NumPy array\")\n",
    "        \n",
    "        #check if faces are all unique\"\n",
    "        if len(self.faces) != len(np.unique(self.faces)):\n",
    "            raise ValueError(\"All faces must be unique\")\n",
    "        self.weights = [1.0 for i in self.faces]\n",
    "        self._die = pd.DataFrame({'weights' : self.weights}, index = self.faces)\n",
    "        self._die.index.name = \"Faces\"\n",
    "        \n",
    "    def change_weight(self,face,weight):\n",
    "        '''\n",
    "        Takes an integer or float parameter and changes the weight of one face if that face is on the die and the weight is \n",
    "        a valid value. Will attempt to cast the provided parameter to a float if possible.\n",
    "        '''\n",
    "        \n",
    "        #check if provided value is a face\n",
    "        if face not in list(self._die.index):\n",
    "            raise IndexError(face, \"is not a face on this die.\")\n",
    "        \n",
    "        #check is weight is int, float, or can be casted to int\n",
    "        if type(weight) != int | float:\n",
    "            try:\n",
    "                weight = float(weight)\n",
    "            except TypeError as e:\n",
    "                print(e)\n",
    "        \n",
    "        #change weight\n",
    "        self._die.loc[(face,'weights')] = weight\n",
    "    \n",
    "    def roll_die(self, rolls=1):\n",
    "        '''takes an integer parameter to specify how many times the dice should be rolled. Default is 1 roll'''\n",
    "        \n",
    "        #calculate probablity of rolling each face\n",
    "        prob = [i/sum(self._die.weights) for i in self._die.weights]\n",
    "        \n",
    "        # get random sample of faces based on probability associated with rolling each then return the list\n",
    "        return [np.random.choice(self._die.index, replace = True, p=prob) for i in range(rolls)]\n",
    "            \n",
    "    def current_state(self):\n",
    "        '''Takes no arguments and returns a copy of the die at this point in time'''\n",
    "        \n",
    "        copy = self._die.copy()\n",
    "        \n",
    "        return copy\n",
    "\n",
    "class Game():\n",
    "    \n",
    "    '''\n",
    "    This class provides methods for playing a game with a die or dice and viewing the results. These methods require a die\n",
    "    or dice from the Die class. The die must also be similar, i.e. they must have the same number of sides and associated\n",
    "    faces, but each die object may have its own weights.\n",
    "\n",
    "    Game objects only keep the results of their most recent play.\n",
    "\n",
    "    Attributes:\n",
    "    \n",
    "    pieces: a list of already instantiated similar dice to be used in the game (type: list)\n",
    "    '''\n",
    "    \n",
    "    def __init__(self,pieces):\n",
    "        '''initialize the list of die/dice to be used in the game.'''\n",
    "        \n",
    "        self.pieces = pieces\n",
    "        \n",
    "    def play_game(self, rolls):\n",
    "        '''\n",
    "        takes an integer parameter to specify how many times the dice should be rolled and saves the result of the\n",
    "        roll(s) in a wide format data frame. Does not return anything but changes the object's state.\n",
    "        '''\n",
    "        \n",
    "        # roll each dice in the list and store the results in a dictionary \n",
    "        # where the key is the position in the list and the value is the list of results\n",
    "        outcome = {i: self.pieces[i].roll_die(rolls) for i in range(len(self.pieces))}\n",
    "        \n",
    "        # convert dictionary into a dataframe where the column names are the list index \n",
    "        # and the row names are the roll number\n",
    "        self._play_results  = pd.DataFrame(outcome, index=[i for i in range(0,rolls)])\n",
    "        self._play_results.index.name = \"roll_num\"\n",
    "        self._play_results.columns.name = \"dice_num\"\n",
    "        \n",
    "    def show_outcome(self, form=\"wide\"):\n",
    "        '''\n",
    "        takes a string parameter (either \"wide\" or \"narrow\") and returns a copy of game outcome to the user \n",
    "        in either wide or narrow form.\n",
    "        \n",
    "        The narrow form will have a MultiIndex, comprising the roll number and the die number and a single column with the \n",
    "        outcomes\n",
    "        '''\n",
    "        \n",
    "        # convert parameter entry to all lowercase\n",
    "        self.form = form.lower()\n",
    "        \n",
    "        # if user indicates wide form, return a copy of the data frame as is\n",
    "        if self.form == \"wide\":\n",
    "            return self._play_results\n",
    "        \n",
    "        # if user indicates wide form, format data frame and return a copy\n",
    "        elif self.form == \"narrow\":\n",
    "            \n",
    "            # convert copy of wide data frame into narrow version\n",
    "            narrow = self._play_results.copy().stack()\n",
    "        \n",
    "            #set multiindex names\n",
    "            narrow.index.set_names([\"roll_num\",\"die_num\"], inplace=True)\n",
    "            \n",
    "            # turn into a dataframe\n",
    "            narrow = narrow.to_frame(name=\"outcome\")\n",
    "            \n",
    "            # return narrow format data frame\n",
    "            return narrow\n",
    "        \n",
    "        # if the uswer enters anything else, raise a error\n",
    "        else:\n",
    "            raise ValueError(\"Please specify either narrow or wide.\")\n",
    "\n",
    "class Analyzer():\n",
    "    '''\n",
    "    This class provides methods for analyzing the results of a single game. These methods require a game from the Game \n",
    "    class. This class takes the results of a single game and computes various descriptive statistical properties about it.\n",
    "\n",
    "    Attributes:\n",
    "    \n",
    "    game: an instantiated game object (type: Game)\n",
    "    '''\n",
    "    \n",
    "    def __init__(self,game):\n",
    "        '''\n",
    "        Takes a game object as its input parameter. Throws a ValueError if the passed value is not a Game object.\n",
    "        '''\n",
    "        if type(game) != Game:\n",
    "            raise ValueError(\"This method only accepts Game objects\")\n",
    "        else:\n",
    "            self.game = game\n",
    "    \n",
    "    def jackpot(self):\n",
    "        '''\n",
    "        Takes no parameters. Computes how many times the game resulted in a jackpot. A jackpot is a result in which all\n",
    "        faces are the same. Returns an integer for the number of jackpots.\n",
    "        '''\n",
    "        # get a series which shows the number of unique values in each row\n",
    "        uniques = self.game._play_results.nunique(axis=1)\n",
    "        \n",
    "        # find home many rows in this series have only 1 unique value\n",
    "        jackpot = sum(uniques== 1)\n",
    "        \n",
    "        # return number of jackpots\n",
    "        return jackpot\n",
    "             \n",
    "    def face_count(self):\n",
    "        '''\n",
    "        Takes no parameters. Computes how many times each face is rolled in each event. Returns a dataframe where the \n",
    "        index is the roll number, the columns are the face values, and cells are the count values.\n",
    "        '''\n",
    "        # get list of all possible faces to use as columns\n",
    "        all_faces = np.unique(np.concatenate([piece.faces for piece in self.game.pieces]))\n",
    "        \n",
    "        #create base dataframe with roll number as index and possible faces as columns\n",
    "        face_counts = pd.DataFrame(index=self.game._play_results.index, columns = all_faces).fillna(0)\n",
    "        \n",
    "        #iterate over rolls and get counts of each face\n",
    "        for roll in self.game._play_results.index:\n",
    "        \n",
    "            # isolate each row\n",
    "            outcomes = self.game._play_results.loc[roll].values\n",
    "            \n",
    "            # count occurance of each face and store in a dictionary where the face is the key and the count is the value\n",
    "            counts = {face:(outcomes==face).sum() for face in all_faces}\n",
    "            \n",
    "            #add counts to data frame\n",
    "            for face, count in counts.items():\n",
    "                face_counts.loc[roll,face] = count\n",
    "                \n",
    "        return face_counts\n",
    "    \n",
    "    def combo_count(self):\n",
    "        '''\n",
    "        Takes no parameters. Computes the distinct combinations of faces rolled, along with their counts. The combinations\n",
    "        are order-independent and repetition is allowed. Returns a data frame with a MultiIndex of distinct combinations and\n",
    "        a column for the associated counts\n",
    "        '''\n",
    "        \n",
    "        #get the faces from each roll and sort since order does not matter (ex. AAB and ABA are the same)\n",
    "        faces_rolled = [np.sort(self.game._play_results.loc[roll].values) for roll in self.game._play_results.index]\n",
    "        \n",
    "        #convert each face outcome to a tuple for easier counting\n",
    "        tupes = [tuple(faces) for faces in faces_rolled]\n",
    "        \n",
    "        #count how many times each face combo appears and store that in a dictionary \n",
    "        count = {tupe:tupes.count(tupe) for tupe in tupes}\n",
    "        \n",
    "        #create multiindex\n",
    "        index = pd.MultiIndex.from_tuples(count.keys(), names = [i for i in range(len(next(iter(count))))])\n",
    "        \n",
    "        #create datafram with multiindex and column with counts\n",
    "        combo_counts = pd.DataFrame({'Count': list(count.values())}, index=index)\n",
    "        combo_counts = combo_counts.sort_index()\n",
    "        \n",
    "        return combo_counts\n",
    "    \n",
    "    def perm_count(self):\n",
    "        '''\n",
    "        Takes no parameters. Computes the distinct permutations of faces rolled, along with their counts. The permutations\n",
    "        are order-dependent and repetition is allowed. Returns a data frame with a MultiIndex of distinct permutations and a\n",
    "        column for the associated counts\n",
    "        '''\n",
    "        #get the faces from each roll, no sorting since order matters\n",
    "        faces_rolled = [self.game._play_results.loc[roll].values for roll in self.game._play_results.index]\n",
    "        \n",
    "        #convert each face outcome to a tuple for easier counting\n",
    "        tupes = [tuple(faces) for faces in faces_rolled]\n",
    "        \n",
    "        #count how many times each face combo appears and store that in a dictionary \n",
    "        count = {tupe:tupes.count(tupe) for tupe in tupes}\n",
    "        \n",
    "        #create multiindex\n",
    "        index = pd.MultiIndex.from_tuples(count.keys(), names = [i for i in range(len(next(iter(count))))])\n",
    "        \n",
    "        #create datafram with multiindex and column with counts\n",
    "        perm_counts = pd.DataFrame({'Count': list(count.values())}, index=index)\n",
    "        perm_counts = perm_counts.sort_index()\n",
    "        \n",
    "        return perm_counts\n",
    "```"
   ]
  },
  {
   "cell_type": "markdown",
   "id": "6377727a-8f0a-491e-9f1c-d9dc225edd35",
   "metadata": {},
   "source": [
    "## Unitest Module (2)\n",
    "\n",
    "Paste a copy of your test module below.\n",
    "\n",
    "NOTE: Paste as text, not as code. Use triple backticks to wrap your code blocks.\n",
    "\n",
    "- All methods have at least one test method (1).\n",
    "- Each method employs one of Unittest's Assert methods (1)."
   ]
  },
  {
   "cell_type": "markdown",
   "id": "4991d634-df95-48af-919d-b823e3c7ef43",
   "metadata": {},
   "source": [
    "```python\n",
    "import unittest\n",
    "import pandas as pd\n",
    "import numpy as np\n",
    "\n",
    "from monte_carlo import Die, Game, Analyzer\n",
    "\n",
    "class DieTestSuite(unittest.TestCase):\n",
    "    \n",
    "    def test_01_create_die(self):\n",
    "        \n",
    "        reg = np.array([1,2,3,4,5,6]) \n",
    "        \n",
    "        die1 = Die(reg) #create die with 6 faces\n",
    "                       \n",
    "        self.assertTrue(type(die1)==Die and len(die1.faces)==6) # confirm type is die and there are 6 faces\n",
    "        \n",
    "    def test_02_change_weight_bad(self):\n",
    "        \n",
    "        alph = np.array([\"A\",\"B\",\"C\",\"D\"]) \n",
    "        \n",
    "        die2 = Die(alph) #create die with 4 faces\n",
    "        \n",
    "        \n",
    "        with self.assertRaises(IndexError): #should raise exception since E is not a face\n",
    "            die2.change_weight(\"E\",10) #change weight of E to 10\n",
    "        \n",
    "    def test_03_change_weight_good(self):\n",
    "    \n",
    "        alph = np.array([\"A\",\"B\",\"C\",\"D\"]) \n",
    "        \n",
    "        die3 = Die(alph) #create die with 4 faces\n",
    "        \n",
    "        die3.change_weight(\"B\",6) #change weight of B to 6\n",
    "        \n",
    "        actual = die3._die.loc[(\"B\", \"weights\")]\n",
    "        \n",
    "        expected = 6\n",
    "        \n",
    "        self.assertEqual(actual,expected) #test if the weight of B is now 6\n",
    "    \n",
    "    def test_04_roll_die(self):\n",
    "        \n",
    "        even = np.array([2,4,6,8,10,12,14,16,18,20])\n",
    "        \n",
    "        die4 = Die(even)\n",
    "        \n",
    "        actual = die4.roll_die(5) #roll the die 5 times\n",
    "    \n",
    "        self.assertTrue(len(actual) == 5 and sum(actual) >= 10) #confirm die was rolled 5 times and resulting values are\n",
    "                                                                #possible (lowest value that could possibly be rolled is \n",
    "                                                                #5 2's so 10\n",
    "        \n",
    "    def test_05_current_state(self):\n",
    "        \n",
    "        odd = np.array([1,3,5])\n",
    "        \n",
    "        die5 = Die(odd)\n",
    "        \n",
    "        die5.change_weight(1,5) #change weight of once face\n",
    "        \n",
    "        state = die5.current_state()\n",
    "        \n",
    "        self.assertIsInstance(state, pd.DataFrame) #check the copy is a data frame\n",
    "        \n",
    "        self.assertEqual(list(state.index), odd.tolist()) #check the faces are actually the faces\n",
    "        \n",
    "        expectedwt = [5.0,1.0,1.0]\n",
    "        actualwt = state['weights'].tolist()\n",
    "        \n",
    "        self.assertEqual(actualwt, expectedwt)\n",
    "    \n",
    "class GameTestSuite(unittest.TestCase):\n",
    "\n",
    "    def test_06_create_game(self):\n",
    "        \n",
    "        die6 = Die(np.array([\"A\",\"B\",\"C\"]))\n",
    "        \n",
    "        die7 = Die(np.array([\"A\",\"B\",\"C\"]))\n",
    "                         \n",
    "        game1 = Game([die6,die7]) #create game with two dice\n",
    "                         \n",
    "        self.assertTrue(type(game1)==Game and len(game1.pieces) ==2) #confirm game1 is a Game with 2 dice\n",
    "    \n",
    "    def test_07_play_game(self):\n",
    "        \n",
    "        die8 = Die(np.array([\"A\",\"B\",\"C\"]))\n",
    "        \n",
    "        die9 = Die(np.array([\"A\",\"B\",\"C\"]))\n",
    "                         \n",
    "        game2 = Game([die8,die9]) #create game with two dice\n",
    "        \n",
    "        game2.play_game(4) # roll each die 4 times\n",
    "        \n",
    "        actual = len(game2.show_outcome()) #play_game only updates the object's state, using show_outcome to confirm state\n",
    "                                           #was updated correcty\n",
    "        \n",
    "        expected = 4\n",
    "        \n",
    "        self.assertEqual(actual,expected) #confirm each die was rolled 4 times\n",
    "    \n",
    "    def test_08_show_outcome_wide(self):\n",
    "        \n",
    "        die10 = Die(np.array([\"A\",\"B\",\"C\"]))\n",
    "        \n",
    "        die11 = Die(np.array([\"A\",\"B\",\"C\"]))\n",
    "                         \n",
    "        game3 = Game([die10,die11]) #create game with two dice\n",
    "        \n",
    "        game3.play_game(7)\n",
    "        \n",
    "        outcome = game3.show_outcome()\n",
    "        \n",
    "        self.assertIsInstance(outcome, pd.DataFrame) #check the outcome is a data frame\n",
    "    \n",
    "    def test_09_show_outcome_narrow(self):\n",
    "        \n",
    "        die12 = Die(np.array([\"A\",\"B\",\"C\"]))\n",
    "        \n",
    "        die13 = Die(np.array([\"A\",\"B\",\"C\"]))\n",
    "                         \n",
    "        game4 = Game([die12,die13]) #create game with two dice\n",
    "        \n",
    "        game4.play_game(7) #roll 7 times\n",
    "        \n",
    "        outcome = game4.show_outcome('narrow') #how results in narrow form\n",
    "        \n",
    "        self.assertIsInstance(outcome, pd.DataFrame) #check the outcome is a data frame\n",
    "        \n",
    "        self.assertEqual(outcome.shape, (14,1)) #check there are 14 rows and one column\n",
    "        \n",
    "        self.assertEqual(outcome.index.names, ['roll_num', 'die_num']) # check presence of multiindex and index names\n",
    "    \n",
    "class AnalyzerTestSuite(unittest.TestCase):\n",
    "    \n",
    "    def test_10_create_analyzer_bad(self):\n",
    "        \n",
    "        die14 = Die(np.array([\"T\", \"F\"]))\n",
    "        \n",
    "        die15 = Die(np.array([\"T\", \"F\"]))\n",
    "                         \n",
    "        game5 = Game([die14,die15]) #create game with two dice\n",
    "                         \n",
    "        with self.assertRaises(ValueError):\n",
    "            a1 = Analyzer(die14) #attempt to initialize with no class\n",
    "        \n",
    "    def test_11_create_analyzer_good(self):\n",
    "        \n",
    "        die16 = Die(np.array([\"T\", \"F\"]))\n",
    "        \n",
    "        die17 = Die(np.array([\"T\", \"F\"]))\n",
    "                         \n",
    "        game6 = Game([die16,die17]) #create game with two dice\n",
    "                         \n",
    "        a2 = Analyzer(game6)   \n",
    "        \n",
    "        self.assertTrue(type(a2)==Analyzer and len(a2.game.pieces)==2) #confirm a2 is an Analyzer of a Game with 2 pieces\n",
    "    \n",
    "    def test_12_jackpot(self):\n",
    "        \n",
    "        die18 = Die(np.array([\"T\"]))\n",
    "        \n",
    "        game7 = Game([die18, die18]) #create a Game with two dice\n",
    "        \n",
    "        game7.play_game(4) # roll 4 times\n",
    "        \n",
    "        a3 = Analyzer(game7) #analyze\n",
    "        \n",
    "        actual = a3.jackpot() #since all faces are the same, we should get jackpot every time\n",
    "        expected = 4\n",
    "        \n",
    "        self.assertEqual(actual,expected) #check that we actually did get jackpot each time\n",
    "    \n",
    "    def test_13_face_count(self):\n",
    "                         \n",
    "        die20 = Die(np.array([\"H\", \"T\"]))\n",
    "        \n",
    "        die21 = Die(np.array([\"H\", \"T\"]))\n",
    "        \n",
    "        game8 = Game([die20, die21]) #create a Game with two dice\n",
    "        \n",
    "        game8.play_game(10) #play game with 10 rolls\n",
    "        \n",
    "        a4 = Analyzer(game8) # analyze\n",
    "                         \n",
    "        actual = a4.face_count().shape # should have 10 rows and 2 columns since\n",
    "                         \n",
    "        expected = (10,2)\n",
    "                         \n",
    "        self.assertIsInstance(a4.face_count(), pd.DataFrame)  # check result is a data frame\n",
    "        self.assertEqual(actual,expected)                    #check the shape is correct. Should have a row for each roll\n",
    "                                                             #and a column for each face\n",
    "    def test_14_combo_count(self):\n",
    "    \n",
    "        die22 = Die(np.array([\"H\", \"T\"]))\n",
    "        \n",
    "        die23 = Die(np.array([\"H\", \"T\"]))\n",
    "        \n",
    "        game9 = Game([die22, die23]) #create a Game with two dice\n",
    "        \n",
    "        game9.play_game(6) #play game with 6 rolls\n",
    "        \n",
    "        a5 = Analyzer(game9) #analyze\n",
    "        \n",
    "        self.assertIsInstance(a5.combo_count(), pd.DataFrame) #confirm result is a pandas data frame\n",
    "        self.assertIsInstance(a5.combo_count().index, pd.MultiIndex) #confirm presence of multiindex\n",
    "        \n",
    "    def test_15_pem_count(self):\n",
    "        \n",
    "        die24 = Die(np.array([\"Ace\", \"King\", \"Queen\", \"Jack\"]))\n",
    "        \n",
    "        die25 = Die(np.array([\"Ace\", \"King\", \"Queen\", \"Jack\"]))\n",
    "        \n",
    "        game10 = Game([die24, die25]) #create a Game with two dice\n",
    "        \n",
    "        game10.play_game(100) # play game with 100 rolls\n",
    "        \n",
    "        a6 = Analyzer(game10) # analyze\n",
    "            \n",
    "        self.assertIsInstance(a6.perm_count(), pd.DataFrame) #confirm result is a pandas data frame\n",
    "        self.assertIsInstance(a6.perm_count().index, pd.MultiIndex) #confirm presence of multiindex\n",
    "\n",
    "if __name__ == '__main__':\n",
    "    \n",
    "    unittest.main(verbosity=3)\n",
    "```"
   ]
  },
  {
   "cell_type": "markdown",
   "id": "3e058d03-29bc-408f-b36d-0605b4f4b8c0",
   "metadata": {
    "tags": []
   },
   "source": [
    "## Unittest Results (3)\n",
    "\n",
    "Put a copy of the results of running your tests from the command line here.\n",
    "\n",
    "Again, paste as text using triple backticks.\n",
    "\n",
    "- All 12 specified methods return OK (3; .25 each)."
   ]
  },
  {
   "cell_type": "raw",
   "id": "54691fd0-836c-43c7-adc9-4a09d8aa9ab2",
   "metadata": {
    "tags": []
   },
   "source": [
    "```\n",
    "bash-4.4$ !python monte_test.py\n",
    " python monte_test.py\n",
    "test_10_create_analyzer_bad (__main__.AnalyzerTestSuite.test_10_create_analyzer_bad) ... ok\n",
    "test_11_create_analyzer_good (__main__.AnalyzerTestSuite.test_11_create_analyzer_good) ... ok\n",
    "test_12_jackpot (__main__.AnalyzerTestSuite.test_12_jackpot) ... ok\n",
    "test_13_face_count (__main__.AnalyzerTestSuite.test_13_face_count) ... ok\n",
    "test_14_combo_count (__main__.AnalyzerTestSuite.test_14_combo_count) ... ok\n",
    "test_15_pem_count (__main__.AnalyzerTestSuite.test_15_pem_count) ... ok\n",
    "test_01_create_die (__main__.DieTestSuite.test_01_create_die) ... ok\n",
    "test_02_change_weight_bad (__main__.DieTestSuite.test_02_change_weight_bad) ... ok\n",
    "test_03_change_weight_good (__main__.DieTestSuite.test_03_change_weight_good) ... ok\n",
    "test_04_roll_die (__main__.DieTestSuite.test_04_roll_die) ... ok\n",
    "test_05_current_state (__main__.DieTestSuite.test_05_current_state) ... ok\n",
    "test_06_create_game (__main__.GameTestSuite.test_06_create_game) ... ok\n",
    "test_07_play_game (__main__.GameTestSuite.test_07_play_game) ... ok\n",
    "test_08_show_outcome_wide (__main__.GameTestSuite.test_08_show_outcome_wide) ... ok\n",
    "test_09_show_outcome_narrow (__main__.GameTestSuite.test_09_show_outcome_narrow) ... ok\n",
    "\n",
    "----------------------------------------------------------------------\n",
    "Ran 15 tests in 0.029s\n",
    "\n",
    "OK\n",
    "```"
   ]
  },
  {
   "cell_type": "markdown",
   "id": "d9ffe8c5-eb2f-4ad1-af76-a46550e4c7ac",
   "metadata": {},
   "source": [
    "## Import (1)\n",
    "\n",
    "Import your module here. This import should refer to the code in your package directory.\n",
    "\n",
    "- Module successuflly imported (1)."
   ]
  },
  {
   "cell_type": "code",
   "execution_count": 1,
   "id": "a05dffb3-e6d6-4f78-9df4-5abd0cf74ca9",
   "metadata": {
    "tags": []
   },
   "outputs": [],
   "source": [
    "import monte_carlo.monte"
   ]
  },
  {
   "cell_type": "markdown",
   "id": "f30c4842-65b1-4556-98b6-3fe1a07e1371",
   "metadata": {},
   "source": [
    "## Help Docs (4)\n",
    "\n",
    "Show your docstring documentation by applying `help()` to your imported module.\n",
    "\n",
    "- All methods have a docstring (3; .25 each).\n",
    "- All classes have a docstring (1; .33 each)."
   ]
  },
  {
   "cell_type": "code",
   "execution_count": 2,
   "id": "bf4fbf1f-9885-471c-a0a6-e9ca90e160de",
   "metadata": {
    "tags": []
   },
   "outputs": [
    {
     "name": "stdout",
     "output_type": "stream",
     "text": [
      "Help on module monte_carlo.monte in monte_carlo:\n",
      "\n",
      "NAME\n",
      "    monte_carlo.monte\n",
      "\n",
      "CLASSES\n",
      "    builtins.object\n",
      "        Analyzer\n",
      "        Die\n",
      "        Game\n",
      "    \n",
      "    class Analyzer(builtins.object)\n",
      "     |  Analyzer(game)\n",
      "     |  \n",
      "     |  This class provides methods for analyzing the results of a single game. These methods require a game from the Game class. This class takes the results of a single game and computes various descriptive statistical properties about it.\n",
      "     |  \n",
      "     |  Attributes:\n",
      "     |  \n",
      "     |  game: an instantiated game object (type: Game)\n",
      "     |  \n",
      "     |  Methods defined here:\n",
      "     |  \n",
      "     |  __init__(self, game)\n",
      "     |      Takes a game object as its input parameter. Throws a ValueError if the passed value is not a Game object.\n",
      "     |  \n",
      "     |  combo_count(self)\n",
      "     |      Takes no parameters. Computes the distinct combinations of faces rolled, along with their counts. The combinations\n",
      "     |      are order-independent and repetition is allowed. Returns a data frame with a MultiIndex of distinct combinations and\n",
      "     |      a column for the associated counts\n",
      "     |  \n",
      "     |  face_count(self)\n",
      "     |      Takes no parameters. Computes how many times each face is rolled in each event. Returns a dataframe where the \n",
      "     |      index is the roll number, the columns are the face values, and cells are the count values.\n",
      "     |  \n",
      "     |  jackpot(self)\n",
      "     |      Takes no parameters. Computes how many times the game resulted in a jackpot. A jackpot is a result in which all\n",
      "     |      faces are the same. Returns an integer for the number of jackpots.\n",
      "     |  \n",
      "     |  perm_count(self)\n",
      "     |      Takes no parameters. Computes the distinct permutations of faces rolled, along with their counts. The permutations\n",
      "     |      are order-dependent and repetition is allowed. Returns a data frame with a MultiIndex of distinct permutations and a\n",
      "     |      column for the associated counts\n",
      "     |  \n",
      "     |  ----------------------------------------------------------------------\n",
      "     |  Data descriptors defined here:\n",
      "     |  \n",
      "     |  __dict__\n",
      "     |      dictionary for instance variables (if defined)\n",
      "     |  \n",
      "     |  __weakref__\n",
      "     |      list of weak references to the object (if defined)\n",
      "    \n",
      "    class Die(builtins.object)\n",
      "     |  Die(faces)\n",
      "     |  \n",
      "     |  This class provides methods for creating a rolling a dice. For this class, a die is any discrete random variable \n",
      "     |  associated with a stochastic process. \n",
      "     |  \n",
      "     |  Attributes:\n",
      "     |  \n",
      "     |  faces: the sides the die has. Each side must contain a unique string or number (type: numpy array).\n",
      "     |  weights: the probability each side will land \"up\" when rolled (type: list of int or float).\n",
      "     |  \n",
      "     |  Methods defined here:\n",
      "     |  \n",
      "     |  __init__(self, faces)\n",
      "     |      initialize the die instance. Weight defaults to 1 for each face but can be changed after the object is created\n",
      "     |  \n",
      "     |  change_weight(self, face, weight)\n",
      "     |      Takes an integer or float parameter and changes the weight of one face if that face is on the die and the weight is \n",
      "     |      a valid value. Will attempt to cast the provided parameter to a float if possible.\n",
      "     |  \n",
      "     |  current_state(self)\n",
      "     |      Takes no arguments and returns a copy of the die at this point in time\n",
      "     |  \n",
      "     |  roll_die(self, rolls=1)\n",
      "     |      takes an integer parameter to specify how many times the dice should be rolled. Default is 1 roll\n",
      "     |  \n",
      "     |  ----------------------------------------------------------------------\n",
      "     |  Data descriptors defined here:\n",
      "     |  \n",
      "     |  __dict__\n",
      "     |      dictionary for instance variables (if defined)\n",
      "     |  \n",
      "     |  __weakref__\n",
      "     |      list of weak references to the object (if defined)\n",
      "    \n",
      "    class Game(builtins.object)\n",
      "     |  Game(pieces)\n",
      "     |  \n",
      "     |  This class provides methods for playing a game with a die or dice and viewing the results. These methods require a die\n",
      "     |  or dice from the Die class. The die must also be similar, i.e. they must have the same number of sides and associated\n",
      "     |  faces, but each die object may have its own weights.\n",
      "     |  \n",
      "     |  Game objects only keep the results of their most recent play.\n",
      "     |  \n",
      "     |  Attributes:\n",
      "     |  \n",
      "     |  pieces: a list of already instantiated similar dice to be used in the game (type: list)\n",
      "     |  \n",
      "     |  Methods defined here:\n",
      "     |  \n",
      "     |  __init__(self, pieces)\n",
      "     |      initialize the list of die/dice to be used in the game.\n",
      "     |  \n",
      "     |  play_game(self, rolls)\n",
      "     |      takes an integer parameter to specify how many times the dice should be rolled and saves the result of the\n",
      "     |      roll(s) in a wide format data frame. Does not return anything but changes the object's state.\n",
      "     |  \n",
      "     |  show_outcome(self, form='wide')\n",
      "     |      takes a string parameter (either \"wide\" or \"narrow\") and returns a copy of game outcome to the user \n",
      "     |      in either wide or narrow form.\n",
      "     |      \n",
      "     |      The narrow form will have a MultiIndex, comprising the roll number and the die number and a single column with the \n",
      "     |      outcomes\n",
      "     |  \n",
      "     |  ----------------------------------------------------------------------\n",
      "     |  Data descriptors defined here:\n",
      "     |  \n",
      "     |  __dict__\n",
      "     |      dictionary for instance variables (if defined)\n",
      "     |  \n",
      "     |  __weakref__\n",
      "     |      list of weak references to the object (if defined)\n",
      "\n",
      "FILE\n",
      "    /sfs/gpfs/tardis/home/amp3xs/Documents/MSDS/DS5100/monte_carlo_sim/monte_carlo/monte.py\n",
      "\n",
      "\n"
     ]
    }
   ],
   "source": [
    "help(monte_carlo.monte)"
   ]
  },
  {
   "cell_type": "markdown",
   "id": "a9defa84-b395-4966-bd1c-5c6c2bb7ed68",
   "metadata": {},
   "source": [
    "## `README.md` File (3)\n",
    "\n",
    "Provide link to the README.md file of your project's repo.\n",
    "\n",
    "- Metadata section or info present (1).\n",
    "- Synopsis section showing how each class is called (1). (All must be included.)\n",
    "- API section listing all classes and methods (1). (All must be included.)"
   ]
  },
  {
   "cell_type": "markdown",
   "id": "ee090b33-d593-48a0-bf35-e739cea0942c",
   "metadata": {},
   "source": [
    "URL:"
   ]
  },
  {
   "cell_type": "markdown",
   "id": "108604c8-8827-42ef-ab59-6b25428fc0ca",
   "metadata": {},
   "source": [
    "## Successful installation (2)\n",
    "\n",
    "Put a screenshot or paste a copy of a terminal session where you successfully install your module with pip.\n",
    "\n",
    "If pasting text, use a preformatted text block to show the results.\n",
    "\n",
    "- Installed with `pip` (1).\n",
    "- Successfully installed message appears (1)."
   ]
  },
  {
   "cell_type": "raw",
   "id": "1278db6a-aa53-4e5c-a749-93a87ab239e0",
   "metadata": {},
   "source": [
    "bash-4.4$ pip install .\n",
    "Defaulting to user installation because normal site-packages is not writeable\n",
    "Processing /sfs/gpfs/tardis/home/amp3xs/Documents/MSDS/DS5100/monte_carlo_sim\n",
    "  Preparing metadata (setup.py) ... done\n",
    "Building wheels for collected packages: monte-carlo\n",
    "  Building wheel for monte-carlo (setup.py) ... done\n",
    "  Created wheel for monte-carlo: filename=monte_carlo-0.1-py3-none-any.whl size=5281 sha256=0ebe66f2cf17c3da2d57842eaf17b64fccfbee80860aa6acda128bbda9dfbc36\n",
    "  Stored in directory: /tmp/pip-ephem-wheel-cache-l36gews1/wheels/ac/88/21/5b13996287acc2dbff1702e1a61cc5e56a67362c8ca07b2f1f\n",
    "Successfully built monte-carlo\n",
    "Installing collected packages: monte-carlo\n",
    "Successfully installed monte-carlo-0.1"
   ]
  },
  {
   "cell_type": "markdown",
   "id": "7c44695d-d1b3-4edf-9f94-e64d7446f199",
   "metadata": {},
   "source": [
    "# Scenarios\n",
    "\n",
    "Use code blocks to perform the tasks for each scenario.\n",
    "\n",
    "Be sure the outputs are visible before submitting."
   ]
  },
  {
   "cell_type": "markdown",
   "id": "e2479eae-6fc9-44cd-b8d7-9b22cb501f2a",
   "metadata": {
    "tags": []
   },
   "source": [
    "## Scenario 1: A 2-headed Coin (9)\n",
    "\n",
    "Task 1. Create a fair coin (with faces $H$ and $T$) and one unfair coin in which one of the faces has a weight of $5$ and the others $1$.\n",
    "\n",
    "- Fair coin created (1).\n",
    "- Unfair coin created with weight as specified (1)."
   ]
  },
  {
   "cell_type": "code",
   "execution_count": 3,
   "id": "55ce498e-c75f-4425-9e3e-b635bd6cd9e1",
   "metadata": {},
   "outputs": [],
   "source": [
    "from monte_carlo import Die, Game, Analyzer\n",
    "import pandas as pd\n",
    "import numpy as np\n",
    "\n",
    "fair = Die(np.array([\"H\",\"T\"]))\n",
    "unfair = Die(np.array([\"H\", \"T\"]))\n",
    "unfair.change_weight(\"H\",5)"
   ]
  },
  {
   "cell_type": "markdown",
   "id": "02b272ab-99da-4b6e-ac2a-555b73e09c07",
   "metadata": {},
   "source": [
    "Task 2. Play a game of $1000$ flips with two fair dice.\n",
    "\n",
    "- Play method called correclty and without error (1)."
   ]
  },
  {
   "cell_type": "code",
   "execution_count": 4,
   "id": "65c92601-d32d-4326-b215-74953aee27f2",
   "metadata": {},
   "outputs": [],
   "source": [
    "fair_game = Game([fair,fair])\n",
    "fair_game.play_game(1000)"
   ]
  },
  {
   "cell_type": "markdown",
   "id": "7d9c3dc8-22c1-4cae-81fb-d68d774a05d1",
   "metadata": {},
   "source": [
    "Task 3. Play another game (using a new Game object) of $1000$ flips, this time using two unfair dice and one fair die. For the second unfair die, you can use the same die object twice in the list of dice you pass to the Game object.\n",
    "\n",
    "- New game object created (1).\n",
    "- Play method called correclty and without error (1)."
   ]
  },
  {
   "cell_type": "code",
   "execution_count": 5,
   "id": "d4098bed-1eb2-4084-8d5e-9fda07c3be43",
   "metadata": {},
   "outputs": [],
   "source": [
    "unfair_game = Game([unfair,unfair,fair])\n",
    "unfair_game.play_game(1000)"
   ]
  },
  {
   "cell_type": "markdown",
   "id": "f690ebfc-fe71-4eb2-976d-7ac80ca6c23f",
   "metadata": {},
   "source": [
    "Task 4. For each game, use an Analyzer object to determine the raw frequency of jackpots — i.e. getting either all $H$s or all $T$s.\n",
    "\n",
    "- Analyzer objecs instantiated for both games (1).\n",
    "- Raw frequencies reported for both (1)."
   ]
  },
  {
   "cell_type": "code",
   "execution_count": 6,
   "id": "b26b8b7e-3be7-4476-a9a4-37d97536729e",
   "metadata": {},
   "outputs": [
    {
     "data": {
      "text/plain": [
       "494"
      ]
     },
     "execution_count": 6,
     "metadata": {},
     "output_type": "execute_result"
    }
   ],
   "source": [
    "fair_analysis = Analyzer(fair_game)\n",
    "fair_jack = fair_analysis.jackpot()\n",
    "fair_jack"
   ]
  },
  {
   "cell_type": "code",
   "execution_count": 7,
   "id": "ac231da2-59d7-4821-a4e8-415a3b317560",
   "metadata": {
    "tags": []
   },
   "outputs": [
    {
     "data": {
      "text/plain": [
       "381"
      ]
     },
     "execution_count": 7,
     "metadata": {},
     "output_type": "execute_result"
    }
   ],
   "source": [
    "unfair_analysis = Analyzer(unfair_game)\n",
    "unfair_jack = unfair_analysis.jackpot()\n",
    "unfair_jack"
   ]
  },
  {
   "cell_type": "markdown",
   "id": "b73d233c-445e-40cd-8858-0c5e1f097105",
   "metadata": {},
   "source": [
    "Task 5. For each analyzer, compute relative frequency as the number of jackpots over the total number of rolls.\n",
    "\n",
    "- Both relative frequencies computed (1)."
   ]
  },
  {
   "cell_type": "code",
   "execution_count": 8,
   "id": "9a96b31b-1b9d-496e-be3e-4bf83c45ec3a",
   "metadata": {},
   "outputs": [
    {
     "data": {
      "text/plain": [
       "0.494"
      ]
     },
     "execution_count": 8,
     "metadata": {},
     "output_type": "execute_result"
    }
   ],
   "source": [
    "rel_fair_jack = fair_jack / 1000\n",
    "rel_fair_jack"
   ]
  },
  {
   "cell_type": "code",
   "execution_count": 9,
   "id": "08041b54-7dd8-4222-8b08-6c92115f52c9",
   "metadata": {
    "tags": []
   },
   "outputs": [
    {
     "data": {
      "text/plain": [
       "0.381"
      ]
     },
     "execution_count": 9,
     "metadata": {},
     "output_type": "execute_result"
    }
   ],
   "source": [
    "rel_unfair_jack = unfair_jack / 1000\n",
    "rel_unfair_jack"
   ]
  },
  {
   "cell_type": "markdown",
   "id": "a6e1e734-7f5c-4721-8ba4-2f3a424cf984",
   "metadata": {},
   "source": [
    "Task 6. Show your results, comparing the two relative frequencies, in a simple bar chart.\n",
    "\n",
    "- Bar chart plotted and correct (1)."
   ]
  },
  {
   "cell_type": "code",
   "execution_count": 14,
   "id": "473fa67c-aa53-4aa3-a0b7-e8772b3f6ed3",
   "metadata": {},
   "outputs": [
    {
     "data": {
      "text/plain": [
       "Text(0.5, 1.0, 'Frequency of Jackpot by Die Type')"
      ]
     },
     "execution_count": 14,
     "metadata": {},
     "output_type": "execute_result"
    },
    {
     "data": {
      "image/png": "[encoded data removed]",
      "text/plain": [
       "<Figure size 640x480 with 1 Axes>"
      ]
     },
     "metadata": {},
     "output_type": "display_data"
    }
   ],
   "source": [
    "from seaborn import barplot\n",
    "import matplotlib.pyplot as plt\n",
    "\n",
    "data = [rel_fair_jack, rel_unfair_jack]\n",
    "labels = [\"Fair Die\", \"Unfair Die\"]\n",
    "\n",
    "barplot(x=labels, y=data)\n",
    "plt.xlabel('Dice')\n",
    "plt.ylabel('Frequency')\n",
    "plt.title('Frequency of Jackpot by Die Type')"
   ]
  },
  {
   "cell_type": "code",
   "execution_count": null,
   "id": "c6ff363d-62ad-4e6c-a41e-da2bffadd172",
   "metadata": {},
   "outputs": [],
   "source": [
    "barplot()"
   ]
  },
  {
   "cell_type": "markdown",
   "id": "725cfa5b-e4b7-47c9-86aa-8d9e1fe6c8c7",
   "metadata": {},
   "source": [
    "## Scenario 2: A 6-sided Die (9)\n",
    "\n",
    "Task 1. Create three dice, each with six sides having the faces 1 through 6.\n",
    "\n",
    "- Three die objects created (1)."
   ]
  },
  {
   "cell_type": "code",
   "execution_count": 15,
   "id": "6a8bc611-325a-4e05-88d5-980e0a2cf7c5",
   "metadata": {},
   "outputs": [],
   "source": [
    "d1 = Die(np.array([1,2,3,4,5,6]))\n",
    "d2 = Die(np.array([1,2,3,4,5,6]))\n",
    "d3 = Die(np.array([1,2,3,4,5,6]))"
   ]
  },
  {
   "cell_type": "markdown",
   "id": "2ed3ad26-fbe9-43bd-9ad7-f683a4191d12",
   "metadata": {},
   "source": [
    "Task 2. Convert one of the dice to an unfair one by weighting the face $6$ five times more than the other weights (i.e. it has weight of 5 and the others a weight of 1 each).\n",
    "\n",
    "- Unfair die created with proper call to weight change method (1)."
   ]
  },
  {
   "cell_type": "code",
   "execution_count": 16,
   "id": "e33dd18f-7f90-456d-a680-61c08a328e21",
   "metadata": {},
   "outputs": [],
   "source": [
    "d2.change_weight(6,5)"
   ]
  },
  {
   "cell_type": "markdown",
   "id": "7f6c062a-4c5b-45b9-96b8-76a0354c7e47",
   "metadata": {},
   "source": [
    "Task 3. Convert another of the dice to be unfair by weighting the face $1$ five times more than the others.\n",
    "\n",
    "- Unfair die created with proper call to weight change method (1)."
   ]
  },
  {
   "cell_type": "code",
   "execution_count": 17,
   "id": "01133a4e-6b06-4246-8d90-8e6d6995be51",
   "metadata": {},
   "outputs": [],
   "source": [
    "d1.change_weight(1,5)"
   ]
  },
  {
   "cell_type": "markdown",
   "id": "f0ed31cb-0a3c-4eb2-b85e-6ed6b2eb6e58",
   "metadata": {},
   "source": [
    "Task 4. Play a game of $10000$ rolls with $5$ fair dice.\n",
    "\n",
    "- Game class properly instantiated (1). \n",
    "- Play method called properly (1)."
   ]
  },
  {
   "cell_type": "code",
   "execution_count": 18,
   "id": "e92395a4-9ed8-4cb0-8c85-38768a784ffc",
   "metadata": {},
   "outputs": [],
   "source": [
    "game3 = Game([d3,d3,d3,d3,d3])\n",
    "game3.play_game(10000)"
   ]
  },
  {
   "cell_type": "markdown",
   "id": "7814b402-46a4-40e5-8141-20e05c3e646b",
   "metadata": {},
   "source": [
    "Task 5. Play another game of $10000$ rolls, this time with $2$ unfair dice, one as defined in steps #2 and #3 respectively, and $3$ fair dice.\n",
    "\n",
    "- Game class properly instantiated (1). \n",
    "- Play method called properly (1)."
   ]
  },
  {
   "cell_type": "code",
   "execution_count": 19,
   "id": "7cd58fba-b2a5-4d5d-bc6d-2a7a68d18c4f",
   "metadata": {},
   "outputs": [],
   "source": [
    "game4 = Game([d1,d2,d3,d3,d3])\n",
    "game4.play_game(10000)"
   ]
  },
  {
   "cell_type": "markdown",
   "id": "7b6cd372-2bb8-4df8-ade1-8f48bc300955",
   "metadata": {},
   "source": [
    "Task 6. For each game, use an Analyzer object to determine the relative frequency of jackpots and show your results, comparing the two relative frequencies, in a simple bar chart.\n",
    "\n",
    "- Jackpot methods called (1).\n",
    "- Graph produced (1)."
   ]
  },
  {
   "cell_type": "code",
   "execution_count": 23,
   "id": "bbdcf695-8937-406e-9b53-aa0b9ee3c59a",
   "metadata": {},
   "outputs": [
    {
     "data": {
      "text/plain": [
       "3"
      ]
     },
     "execution_count": 23,
     "metadata": {},
     "output_type": "execute_result"
    }
   ],
   "source": [
    "analysis3 = Analyzer(game3)\n",
    "analysis3.jackpot()\n",
    "fair_jack2 = analysis3.jackpot()\n",
    "fair_jack2"
   ]
  },
  {
   "cell_type": "code",
   "execution_count": 24,
   "id": "9e81fe4b-2a93-4fbd-b1bc-1cf45d7e502b",
   "metadata": {
    "tags": []
   },
   "outputs": [
    {
     "data": {
      "text/plain": [
       "12"
      ]
     },
     "execution_count": 24,
     "metadata": {},
     "output_type": "execute_result"
    }
   ],
   "source": [
    "analysis4 = Analyzer(game4)\n",
    "analysis4.jackpot()\n",
    "unfair_jack2 = analysis4.jackpot()\n",
    "unfair_jack2"
   ]
  },
  {
   "cell_type": "code",
   "execution_count": 25,
   "id": "38d3fb28-222b-478f-8468-696f1c1572a1",
   "metadata": {},
   "outputs": [],
   "source": [
    "rel_fair_jack2 = fair_jack2 / 10000\n",
    "rel_unfair_jack2 = unfair_jack2 / 10000"
   ]
  },
  {
   "cell_type": "code",
   "execution_count": 27,
   "id": "bfe8d937-008e-469c-8167-1b7d4f10b831",
   "metadata": {
    "tags": []
   },
   "outputs": [],
   "source": [
    "freqs = [rel_fair_jack2, rel_unfair_jack2]\n",
    "labs = [\"Fair Die\", \"Unfair Die\"]"
   ]
  },
  {
   "cell_type": "code",
   "execution_count": 28,
   "id": "3fdd96d5-335e-4f19-bde0-7bfb9e363047",
   "metadata": {
    "tags": []
   },
   "outputs": [
    {
     "data": {
      "text/plain": [
       "Text(0.5, 1.0, 'Frequency of Jackpot by Die Type')"
      ]
     },
     "execution_count": 28,
     "metadata": {},
     "output_type": "execute_result"
    },
    {
     "data": {
      "image/png": "[encoded data removed]",
      "text/plain": [
       "<Figure size 640x480 with 1 Axes>"
      ]
     },
     "metadata": {},
     "output_type": "display_data"
    }
   ],
   "source": [
    "barplot(x=labs, y=freqs)\n",
    "plt.xlabel('Dice')\n",
    "plt.ylabel('Frequency')\n",
    "plt.title('Frequency of Jackpot by Die Type')"
   ]
  },
  {
   "cell_type": "markdown",
   "id": "9f04e9be-8fcf-4ea4-a391-6614608285f8",
   "metadata": {},
   "source": [
    "## Scenario 3: Letters of the Alphabet (7)\n",
    "\n",
    "Task 1. Create a \"die\" of letters from $A$ to $Z$ with weights based on their frequency of usage as found in the data file `english_letters.txt`. Use the frequencies (i.e. raw counts) as weights.\n",
    "\n",
    "- Die correctly instantiated with source file data (1).\n",
    "- Weights properly applied using weight setting method (1)."
   ]
  },
  {
   "cell_type": "code",
   "execution_count": 29,
   "id": "b0ceb771-3cdf-4d8f-8c2c-020806bbb909",
   "metadata": {},
   "outputs": [
    {
     "data": {
      "text/html": [
       "<div>\n",
       "<style scoped>\n",
       "    .dataframe tbody tr th:only-of-type {\n",
       "        vertical-align: middle;\n",
       "    }\n",
       "\n",
       "    .dataframe tbody tr th {\n",
       "        vertical-align: top;\n",
       "    }\n",
       "\n",
       "    .dataframe thead th {\n",
       "        text-align: right;\n",
       "    }\n",
       "</style>\n",
       "<table border=\"1\" class=\"dataframe\">\n",
       "  <thead>\n",
       "    <tr style=\"text-align: right;\">\n",
       "      <th></th>\n",
       "      <th>weights</th>\n",
       "    </tr>\n",
       "    <tr>\n",
       "      <th>Faces</th>\n",
       "      <th></th>\n",
       "    </tr>\n",
       "  </thead>\n",
       "  <tbody>\n",
       "    <tr>\n",
       "      <th>E</th>\n",
       "      <td>529117365.0</td>\n",
       "    </tr>\n",
       "    <tr>\n",
       "      <th>T</th>\n",
       "      <td>390965105.0</td>\n",
       "    </tr>\n",
       "    <tr>\n",
       "      <th>A</th>\n",
       "      <td>374061888.0</td>\n",
       "    </tr>\n",
       "    <tr>\n",
       "      <th>O</th>\n",
       "      <td>326627740.0</td>\n",
       "    </tr>\n",
       "    <tr>\n",
       "      <th>I</th>\n",
       "      <td>320410057.0</td>\n",
       "    </tr>\n",
       "    <tr>\n",
       "      <th>N</th>\n",
       "      <td>313720540.0</td>\n",
       "    </tr>\n",
       "    <tr>\n",
       "      <th>S</th>\n",
       "      <td>294300210.0</td>\n",
       "    </tr>\n",
       "    <tr>\n",
       "      <th>R</th>\n",
       "      <td>277000841.0</td>\n",
       "    </tr>\n",
       "    <tr>\n",
       "      <th>H</th>\n",
       "      <td>216768975.0</td>\n",
       "    </tr>\n",
       "    <tr>\n",
       "      <th>L</th>\n",
       "      <td>183996130.0</td>\n",
       "    </tr>\n",
       "    <tr>\n",
       "      <th>D</th>\n",
       "      <td>169330528.0</td>\n",
       "    </tr>\n",
       "    <tr>\n",
       "      <th>C</th>\n",
       "      <td>138416451.0</td>\n",
       "    </tr>\n",
       "    <tr>\n",
       "      <th>U</th>\n",
       "      <td>117295780.0</td>\n",
       "    </tr>\n",
       "    <tr>\n",
       "      <th>M</th>\n",
       "      <td>110504544.0</td>\n",
       "    </tr>\n",
       "    <tr>\n",
       "      <th>F</th>\n",
       "      <td>95422055.0</td>\n",
       "    </tr>\n",
       "    <tr>\n",
       "      <th>G</th>\n",
       "      <td>91258980.0</td>\n",
       "    </tr>\n",
       "    <tr>\n",
       "      <th>P</th>\n",
       "      <td>90376747.0</td>\n",
       "    </tr>\n",
       "    <tr>\n",
       "      <th>W</th>\n",
       "      <td>79843664.0</td>\n",
       "    </tr>\n",
       "    <tr>\n",
       "      <th>Y</th>\n",
       "      <td>75294515.0</td>\n",
       "    </tr>\n",
       "    <tr>\n",
       "      <th>B</th>\n",
       "      <td>70195826.0</td>\n",
       "    </tr>\n",
       "    <tr>\n",
       "      <th>V</th>\n",
       "      <td>46337161.0</td>\n",
       "    </tr>\n",
       "    <tr>\n",
       "      <th>K</th>\n",
       "      <td>35373464.0</td>\n",
       "    </tr>\n",
       "    <tr>\n",
       "      <th>J</th>\n",
       "      <td>9613410.0</td>\n",
       "    </tr>\n",
       "    <tr>\n",
       "      <th>X</th>\n",
       "      <td>8369915.0</td>\n",
       "    </tr>\n",
       "    <tr>\n",
       "      <th>Z</th>\n",
       "      <td>4975847.0</td>\n",
       "    </tr>\n",
       "    <tr>\n",
       "      <th>Q</th>\n",
       "      <td>4550166.0</td>\n",
       "    </tr>\n",
       "  </tbody>\n",
       "</table>\n",
       "</div>"
      ],
      "text/plain": [
       "           weights\n",
       "Faces             \n",
       "E      529117365.0\n",
       "T      390965105.0\n",
       "A      374061888.0\n",
       "O      326627740.0\n",
       "I      320410057.0\n",
       "N      313720540.0\n",
       "S      294300210.0\n",
       "R      277000841.0\n",
       "H      216768975.0\n",
       "L      183996130.0\n",
       "D      169330528.0\n",
       "C      138416451.0\n",
       "U      117295780.0\n",
       "M      110504544.0\n",
       "F       95422055.0\n",
       "G       91258980.0\n",
       "P       90376747.0\n",
       "W       79843664.0\n",
       "Y       75294515.0\n",
       "B       70195826.0\n",
       "V       46337161.0\n",
       "K       35373464.0\n",
       "J        9613410.0\n",
       "X        8369915.0\n",
       "Z        4975847.0\n",
       "Q        4550166.0"
      ]
     },
     "execution_count": 29,
     "metadata": {},
     "output_type": "execute_result"
    }
   ],
   "source": [
    "#load in data\n",
    "alphabet = np.genfromtxt('english_letters.txt',dtype=[('letter', 'U1'),('freq', 'i8')])\n",
    "\n",
    "#extract each column\n",
    "letters = alphabet['letter']\n",
    "frequency = alphabet['freq']\n",
    "\n",
    "#create dice with letters for faces\n",
    "alph = Die(letters)\n",
    "\n",
    "#change weights of each face to frequency\n",
    "for letter, freq in zip(letters,frequency):\n",
    "    alph.change_weight(letter,freq)\n",
    "\n",
    "#show die\n",
    "alph.current_state()"
   ]
  },
  {
   "cell_type": "markdown",
   "id": "88e2e14a-6223-470a-a2c8-bca1120d7a5b",
   "metadata": {},
   "source": [
    "Task 2. Play a game involving $4$ of these dice with $1000$ rolls.\n",
    "\n",
    "- Game play method properly called (1)."
   ]
  },
  {
   "cell_type": "code",
   "execution_count": 30,
   "id": "2ae087cc-936d-4f1e-bddb-a7c179d139e0",
   "metadata": {},
   "outputs": [],
   "source": [
    "alph_game = Game([alph,alph,alph,alph])\n",
    "\n",
    "alph_game.play_game(1000)"
   ]
  },
  {
   "cell_type": "markdown",
   "id": "3b9ff800-bf1f-4f66-9d7f-ff57a648e9f0",
   "metadata": {},
   "source": [
    "Task 3. Determine how many permutations in your results are actual English words, based on the vocabulary found in `scrabble_words.txt`.\n",
    "\n",
    "- Use permutation method (1).\n",
    "- Get count as difference between permutations and vocabulary (1)."
   ]
  },
  {
   "cell_type": "code",
   "execution_count": 31,
   "id": "ed1c7fa0-cfa3-4cf4-9fd0-9f84b86b0f64",
   "metadata": {},
   "outputs": [],
   "source": [
    "alph_analysis = Analyzer(alph_game)\n",
    "\n",
    "#get index of perm_count\n",
    "perms_ct = alph_analysis.perm_count().index\n",
    "\n",
    "#convert to list\n",
    "perms = [\"\".join(perm) for perm in perms_ct]"
   ]
  },
  {
   "cell_type": "code",
   "execution_count": 32,
   "id": "76266489-35e3-4c4e-ba3b-2895f0d9a077",
   "metadata": {
    "tags": []
   },
   "outputs": [],
   "source": [
    "#read in scrabble data\n",
    "\n",
    "with open('scrabble_words.txt', 'r') as file:\n",
    "    scrabble = file.readlines()\n",
    "\n",
    "#removew newline characters\n",
    "scrabble = [line.strip() for line in scrabble]"
   ]
  },
  {
   "cell_type": "code",
   "execution_count": 33,
   "id": "40939535-a8b2-4e5f-9248-f5aaa5e14264",
   "metadata": {
    "tags": []
   },
   "outputs": [],
   "source": [
    "#convert perm and scrabble to set so we can compare with intersection\n",
    "\n",
    "perms_set = set(perms)\n",
    "scrab_set = set(scrabble)"
   ]
  },
  {
   "cell_type": "code",
   "execution_count": 34,
   "id": "bc4de22c-e936-4cd8-9452-699ae077b884",
   "metadata": {
    "tags": []
   },
   "outputs": [
    {
     "data": {
      "text/plain": [
       "36"
      ]
     },
     "execution_count": 34,
     "metadata": {},
     "output_type": "execute_result"
    }
   ],
   "source": [
    "#compare\n",
    "len(perms_set.intersection(scrab_set))"
   ]
  },
  {
   "cell_type": "markdown",
   "id": "5de50f7a-1075-48f0-ad24-ae2dd00164e5",
   "metadata": {},
   "source": [
    "36 of our permutations are actual english words!"
   ]
  },
  {
   "cell_type": "markdown",
   "id": "54437b15-020e-4d3c-9176-401d34c4e879",
   "metadata": {},
   "source": [
    "Task 4. Repeat steps #2 and #3, this time with $5$ dice. How many actual words does this produce? Which produces more?\n",
    "\n",
    "- Successfully repreats steps (1).\n",
    "- Identifies parameter with most found words (1)."
   ]
  },
  {
   "cell_type": "code",
   "execution_count": 35,
   "id": "06e6f6ed-b666-4c30-b887-0b8e299c8de5",
   "metadata": {
    "tags": []
   },
   "outputs": [],
   "source": [
    "#play game with 5 die\n",
    "alph_game2 = Game([alph,alph,alph,alph,alph])\n",
    "\n",
    "alph_game2.play_game(1000)"
   ]
  },
  {
   "cell_type": "code",
   "execution_count": 36,
   "id": "05717803-a8a9-40bf-a209-43d824b5fde9",
   "metadata": {
    "tags": []
   },
   "outputs": [],
   "source": [
    "alph_analysis2 = Analyzer(alph_game2)\n",
    "\n",
    "#get index of perm_count\n",
    "perms_ct2 = alph_analysis2.perm_count().index\n",
    "\n",
    "#convert to list\n",
    "perms2 = [\"\".join(perm) for perm in perms_ct2]\n",
    "\n",
    "#convert to set\n",
    "perms2_set = set(perms2)"
   ]
  },
  {
   "cell_type": "code",
   "execution_count": 37,
   "id": "ac67e824-4b9d-4d91-b4e3-4f7c1280e525",
   "metadata": {
    "tags": []
   },
   "outputs": [
    {
     "data": {
      "text/plain": [
       "11"
      ]
     },
     "execution_count": 37,
     "metadata": {},
     "output_type": "execute_result"
    }
   ],
   "source": [
    "len(perms2_set.intersection(scrab_set))"
   ]
  },
  {
   "cell_type": "markdown",
   "id": "9f46a632-0045-4489-b95f-9035614108d6",
   "metadata": {},
   "source": [
    "This time only 11 permutations were actual english words. \n",
    "\n",
    "The game with only 4 die produced more english words."
   ]
  }
 ],
 "metadata": {
  "kernelspec": {
   "display_name": "Python 3 (ipykernel)",
   "language": "python",
   "name": "python3"
  },
  "language_info": {
   "codemirror_mode": {
    "name": "ipython",
    "version": 3
   },
   "file_extension": ".py",
   "mimetype": "text/x-python",
   "name": "python",
   "nbconvert_exporter": "python",
   "pygments_lexer": "ipython3",
   "version": "3.11.4"
  },
  "toc-autonumbering": true,
  "widgets": {
   "application/vnd.jupyter.widget-state+json": {
    "state": {},
    "version_major": 2,
    "version_minor": 0
   }
  }
 },
 "nbformat": 4,
 "nbformat_minor": 5
}
